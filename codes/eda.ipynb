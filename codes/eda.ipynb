{
 "cells": [
  {
   "cell_type": "code",
   "execution_count": 2,
   "id": "b426102e",
   "metadata": {
    "scrolled": true
   },
   "outputs": [
    {
     "name": "stderr",
     "output_type": "stream",
     "text": [
      "/tmp/ipykernel_114690/1548117213.py:14: DtypeWarning: Columns (23) have mixed types. Specify dtype option on import or set low_memory=False.\n",
      "  df = pd.read_csv(f\"{filepath}{filename}\", sep=',', skiprows=skip, nrows=nrows, encoding='utf-8', on_bad_lines='skip')\n"
     ]
    },
    {
     "name": "stdout",
     "output_type": "stream",
     "text": [
      "         recommendationid    appid            game     author_steamid  \\\n",
      "0               148919893       10  Counter-Strike  76561199036724879   \n",
      "1               148919350       10  Counter-Strike  76561198826729322   \n",
      "2               148913051       10  Counter-Strike  76561199101237625   \n",
      "3               148912714       10  Counter-Strike  76561198347582422   \n",
      "4               148912575       10  Counter-Strike  76561198363716821   \n",
      "...                   ...      ...             ...                ...   \n",
      "9999995         135140859  1172470    Apex Legends  76561199378970568   \n",
      "9999996         135140436  1172470    Apex Legends  76561198983963280   \n",
      "9999997         135140394  1172470    Apex Legends  76561199417101871   \n",
      "9999998         135139889  1172470    Apex Legends  76561198062590256   \n",
      "9999999         135139786  1172470    Apex Legends  76561198348022795   \n",
      "\n",
      "         author_num_games_owned  author_num_reviews  author_playtime_forever  \\\n",
      "0                             0                   3                      197   \n",
      "1                             0                  21                      441   \n",
      "2                             7                   1                     1440   \n",
      "3                            11                   4                     1636   \n",
      "4                             0                   2                      197   \n",
      "...                         ...                 ...                      ...   \n",
      "9999995                       0                   1                     6605   \n",
      "9999996                       0                   2                    20573   \n",
      "9999997                      13                   1                    35795   \n",
      "9999998                       0                   7                      345   \n",
      "9999999                       8                   2                    11146   \n",
      "\n",
      "         author_playtime_last_two_weeks  author_playtime_at_review  \\\n",
      "0                                   197                        197   \n",
      "1                                    37                        441   \n",
      "2                                  1440                       1313   \n",
      "3                                    83                       1612   \n",
      "4                                    41                        197   \n",
      "...                                 ...                        ...   \n",
      "9999995                            1302                       4921   \n",
      "9999996                            1155                       1997   \n",
      "9999997                             505                       3552   \n",
      "9999998                               0                        296   \n",
      "9999999                               0                      10351   \n",
      "\n",
      "         author_last_played  ... timestamp_updated voted_up  votes_up  \\\n",
      "0                1698336369  ...        1698336397        1         0   \n",
      "1                1698335809  ...        1698335821        1         0   \n",
      "2                1698338635  ...        1698329862        1         0   \n",
      "3                1698341834  ...        1698329555        1         0   \n",
      "4                1698329401  ...        1698329419        1         0   \n",
      "...                     ...  ...               ...      ...       ...   \n",
      "9999995          1698727454  ...        1679459431        1         0   \n",
      "9999996          1698672980  ...        1679458553        1         0   \n",
      "9999997          1698489580  ...        1679458466        1         0   \n",
      "9999998          1680320446  ...        1679457550        1         0   \n",
      "9999999          1689495021  ...        1679457353        1         0   \n",
      "\n",
      "         votes_funny  weighted_vote_score  comment_count  steam_purchase  \\\n",
      "0                  0                  0.0              0               1   \n",
      "1                  0                  0.0              0               1   \n",
      "2                  0                  0.0              0               1   \n",
      "3                  0                  0.0              0               1   \n",
      "4                  0                  0.0              0               1   \n",
      "...              ...                  ...            ...             ...   \n",
      "9999995            0                  0.0              0               0   \n",
      "9999996            0                  0.0              0               0   \n",
      "9999997            0                  0.0              0               0   \n",
      "9999998            0                  0.0              0               0   \n",
      "9999999            0                  0.0              0               0   \n",
      "\n",
      "         received_for_free  written_during_early_access  hidden_in_steam_china  \n",
      "0                        0                            0                      1  \n",
      "1                        0                            0                      1  \n",
      "2                        0                            0                      1  \n",
      "3                        0                            0                      1  \n",
      "4                        0                            0                      1  \n",
      "...                    ...                          ...                    ...  \n",
      "9999995                  0                            0                      1  \n",
      "9999996                  1                            0                      1  \n",
      "9999997                  0                            0                      1  \n",
      "9999998                  0                            0                      1  \n",
      "9999999                  1                            0                      1  \n",
      "\n",
      "[10000000 rows x 23 columns]\n"
     ]
    }
   ],
   "source": [
    "import pandas as pd\n",
    "\n",
    "# Define file path and chunk size\n",
    "filepath = \"gcs://my-bucket-an/landing/\"\n",
    "filename_list = ['all_reviews.csv']\n",
    "\n",
    "total_rows_to_read = 113883717\n",
    "nrows = 10000000\n",
    "skip = 0\n",
    "\n",
    "# Loop \n",
    "for filename in filename_list:\n",
    "    # Read in the first set of rows\n",
    "    df = pd.read_csv(f\"{filepath}{filename}\", sep=',', skiprows=skip, nrows=nrows, encoding='utf-8', on_bad_lines='skip')\n",
    "    \n",
    "    column_names = df.columns\n",
    "\n",
    "    # Define columns to drop\n",
    "    columns_to_drop = ['steam_china_location']\n",
    "\n",
    "    df.drop(columns=columns_to_drop, inplace=True)\n",
    "\n",
    "    print(df)\n"
   ]
  },
  {
   "cell_type": "code",
   "execution_count": 30,
   "id": "9091d8bd",
   "metadata": {
    "scrolled": true
   },
   "outputs": [
    {
     "name": "stdout",
     "output_type": "stream",
     "text": [
      "         recommendationid    appid            game     author_steamid  \\\n",
      "0               148919893       10  Counter-Strike  76561199036724879   \n",
      "1               148919350       10  Counter-Strike  76561198826729322   \n",
      "2               148913051       10  Counter-Strike  76561199101237625   \n",
      "3               148912714       10  Counter-Strike  76561198347582422   \n",
      "4               148912575       10  Counter-Strike  76561198363716821   \n",
      "...                   ...      ...             ...                ...   \n",
      "9999995         135140859  1172470    Apex Legends  76561199378970568   \n",
      "9999996         135140436  1172470    Apex Legends  76561198983963280   \n",
      "9999997         135140394  1172470    Apex Legends  76561199417101871   \n",
      "9999998         135139889  1172470    Apex Legends  76561198062590256   \n",
      "9999999         135139786  1172470    Apex Legends  76561198348022795   \n",
      "\n",
      "         author_num_games_owned  author_num_reviews  author_playtime_forever  \\\n",
      "0                             0                   3                      197   \n",
      "1                             0                  21                      441   \n",
      "2                             7                   1                     1440   \n",
      "3                            11                   4                     1636   \n",
      "4                             0                   2                      197   \n",
      "...                         ...                 ...                      ...   \n",
      "9999995                       0                   1                     6605   \n",
      "9999996                       0                   2                    20573   \n",
      "9999997                      13                   1                    35795   \n",
      "9999998                       0                   7                      345   \n",
      "9999999                       8                   2                    11146   \n",
      "\n",
      "         author_playtime_last_two_weeks  author_playtime_at_review  \\\n",
      "0                                   197                        197   \n",
      "1                                    37                        441   \n",
      "2                                  1440                       1313   \n",
      "3                                    83                       1612   \n",
      "4                                    41                        197   \n",
      "...                                 ...                        ...   \n",
      "9999995                            1302                       4921   \n",
      "9999996                            1155                       1997   \n",
      "9999997                             505                       3552   \n",
      "9999998                               0                        296   \n",
      "9999999                               0                      10351   \n",
      "\n",
      "         author_last_played  ... timestamp_updated voted_up  votes_up  \\\n",
      "0                1698336369  ...        1698336397        1         0   \n",
      "1                1698335809  ...        1698335821        1         0   \n",
      "2                1698338635  ...        1698329862        1         0   \n",
      "3                1698341834  ...        1698329555        1         0   \n",
      "4                1698329401  ...        1698329419        1         0   \n",
      "...                     ...  ...               ...      ...       ...   \n",
      "9999995          1698727454  ...        1679459431        1         0   \n",
      "9999996          1698672980  ...        1679458553        1         0   \n",
      "9999997          1698489580  ...        1679458466        1         0   \n",
      "9999998          1680320446  ...        1679457550        1         0   \n",
      "9999999          1689495021  ...        1679457353        1         0   \n",
      "\n",
      "         votes_funny  weighted_vote_score  comment_count  steam_purchase  \\\n",
      "0                  0                  0.0              0               1   \n",
      "1                  0                  0.0              0               1   \n",
      "2                  0                  0.0              0               1   \n",
      "3                  0                  0.0              0               1   \n",
      "4                  0                  0.0              0               1   \n",
      "...              ...                  ...            ...             ...   \n",
      "9999995            0                  0.0              0               0   \n",
      "9999996            0                  0.0              0               0   \n",
      "9999997            0                  0.0              0               0   \n",
      "9999998            0                  0.0              0               0   \n",
      "9999999            0                  0.0              0               0   \n",
      "\n",
      "         received_for_free  written_during_early_access  hidden_in_steam_china  \n",
      "0                        0                            0                      1  \n",
      "1                        0                            0                      1  \n",
      "2                        0                            0                      1  \n",
      "3                        0                            0                      1  \n",
      "4                        0                            0                      1  \n",
      "...                    ...                          ...                    ...  \n",
      "9999995                  0                            0                      1  \n",
      "9999996                  1                            0                      1  \n",
      "9999997                  0                            0                      1  \n",
      "9999998                  0                            0                      1  \n",
      "9999999                  1                            0                      1  \n",
      "\n",
      "[9999212 rows x 23 columns]\n"
     ]
    }
   ],
   "source": [
    "df.dropna(inplace=True)\n",
    "print(df)"
   ]
  },
  {
   "cell_type": "code",
   "execution_count": 3,
   "id": "fa142f58",
   "metadata": {
    "scrolled": true
   },
   "outputs": [],
   "source": [
    "df_first = df.copy()"
   ]
  },
  {
   "cell_type": "code",
   "execution_count": 24,
   "id": "be693b31",
   "metadata": {},
   "outputs": [],
   "source": [
    "# Define the file path for the cleaned folder\n",
    "cleaned_filepath = \"gcs://my-bucket-an/cleaned/\"\n",
    "\n",
    "# Write combine_df to Parquet file\n",
    "combine_df.to_parquet(f\"{cleaned_filepath}reviews1.parquet\", index=False)\n"
   ]
  },
  {
   "cell_type": "code",
   "execution_count": 15,
   "id": "8a27a105",
   "metadata": {},
   "outputs": [],
   "source": [
    "combine_df = pd.concat([df_fifth, df_sixth, df_seventh, df_eighth])"
   ]
  },
  {
   "cell_type": "code",
   "execution_count": 17,
   "id": "e579810b",
   "metadata": {},
   "outputs": [],
   "source": [
    "combine_df.drop(columns=['steam_purchase', 'received_for_free', 'written_during_early_access', \n",
    "                   'hidden_in_steam_china', 'steam_purchase', \n",
    "                   'timestamp_created', 'timestamp_updated', 'author_last_played', \n",
    "                   'author_playtime_last_two_weeks', 'author_num_games_owned'], inplace=True)"
   ]
  },
  {
   "cell_type": "code",
   "execution_count": 20,
   "id": "15109c8f",
   "metadata": {},
   "outputs": [],
   "source": [
    "cleaned_filepath = \"gcs://my-bucket-an/cleaned/\"\n",
    "combine_df.to_parquet(f\"{cleaned_filepath}reviews2.parquet\", index=False)"
   ]
  },
  {
   "cell_type": "code",
   "execution_count": 21,
   "id": "71868bad",
   "metadata": {},
   "outputs": [],
   "source": [
    "del combine_df"
   ]
  },
  {
   "cell_type": "code",
   "execution_count": 34,
   "id": "a51fd0cb",
   "metadata": {
    "scrolled": true
   },
   "outputs": [
    {
     "name": "stdout",
     "output_type": "stream",
     "text": [
      "Reading in 10000000 records starting at 80000000\n"
     ]
    },
    {
     "name": "stderr",
     "output_type": "stream",
     "text": [
      "/tmp/ipykernel_89537/3216937425.py:4: DtypeWarning: Columns (23) have mixed types. Specify dtype option on import or set low_memory=False.\n",
      "  df = pd.read_csv(f\"{filepath}{filename}\", sep=',', skiprows=skip, nrows=nrows, header=None, names=column_names, encoding='utf-8', on_bad_lines='skip')\n"
     ]
    },
    {
     "name": "stdout",
     "output_type": "stream",
     "text": [
      "         recommendationid   appid        game     author_steamid  \\\n",
      "0                62471714  504230     Celeste  76561198077896759   \n",
      "1                62471652  504230     Celeste  76561198063035579   \n",
      "2                62470004  504230     Celeste  76561198262720667   \n",
      "3                62469210  504230     Celeste  76561198035381508   \n",
      "4                62468412  504230     Celeste  76561198300656190   \n",
      "...                   ...     ...         ...                ...   \n",
      "9999995          35357867  621010  Headmaster  76561198030519086   \n",
      "9999996          35046365  621010  Headmaster  76561198113905133   \n",
      "9999997          34825722  621010  Headmaster  76561197970329288   \n",
      "9999998          34824762  621010  Headmaster  76561197999450890   \n",
      "9999999          34768608  621010  Headmaster  76561198124516461   \n",
      "\n",
      "         author_num_games_owned  author_num_reviews  author_playtime_forever  \\\n",
      "0                           142                  40                     3085   \n",
      "1                            44                   5                     1170   \n",
      "2                             0                  66                     2013   \n",
      "3                             0                   2                      764   \n",
      "4                            60                  45                     3930   \n",
      "...                         ...                 ...                      ...   \n",
      "9999995                       0                  99                      134   \n",
      "9999996                     348                  32                        7   \n",
      "9999997                    2696                1437                       51   \n",
      "9999998                       0                   3                      732   \n",
      "9999999                     283                 102                       94   \n",
      "\n",
      "         author_playtime_last_two_weeks  author_playtime_at_review  \\\n",
      "0                                     0                       3084   \n",
      "1                                     0                        515   \n",
      "2                                     0                       1362   \n",
      "3                                     0                        261   \n",
      "4                                     0                        644   \n",
      "...                                 ...                        ...   \n",
      "9999995                               0                        103   \n",
      "9999996                               0                          7   \n",
      "9999997                               0                         51   \n",
      "9999998                              20                        151   \n",
      "9999999                               0                         94   \n",
      "\n",
      "         author_last_played  ... timestamp_updated voted_up  votes_up  \\\n",
      "0                1624414208  ...        1580068680        1         0   \n",
      "1                1581292347  ...        1580068619        0         1   \n",
      "2                1689034109  ...        1580066667        1         0   \n",
      "3                1581232178  ...        1580065842        1         0   \n",
      "4                1696783808  ...        1580064964        1         0   \n",
      "...                     ...  ...               ...      ...       ...   \n",
      "9999995          1615406255  ...        1506815148        1         0   \n",
      "9999996          1505744941  ...        1505745050        0         0   \n",
      "9999997          1504904048  ...        1504915931        1         5   \n",
      "9999998          1698349736  ...        1504911345        1         0   \n",
      "9999999          1504758442  ...        1504716061        1         1   \n",
      "\n",
      "         votes_funny  weighted_vote_score  comment_count  steam_purchase  \\\n",
      "0                  0             0.000000              0               1   \n",
      "1                  4             0.459610              0               1   \n",
      "2                  1             0.000000              0               1   \n",
      "3                  0             0.000000              0               1   \n",
      "4                  0             0.000000              0               1   \n",
      "...              ...                  ...            ...             ...   \n",
      "9999995            1             0.000000              0               1   \n",
      "9999996            0             0.454545              0               1   \n",
      "9999997            1             0.365656              0               0   \n",
      "9999998            0             0.000000              0               1   \n",
      "9999999            2             0.504108              0               1   \n",
      "\n",
      "         received_for_free  written_during_early_access  hidden_in_steam_china  \n",
      "0                        0                            0                      0  \n",
      "1                        0                            0                      0  \n",
      "2                        0                            0                      0  \n",
      "3                        0                            0                      0  \n",
      "4                        0                            0                      0  \n",
      "...                    ...                          ...                    ...  \n",
      "9999995                  0                            0                      0  \n",
      "9999996                  0                            0                      0  \n",
      "9999997                  1                            0                      0  \n",
      "9999998                  0                            0                      0  \n",
      "9999999                  0                            0                      0  \n",
      "\n",
      "[10000000 rows x 23 columns]\n"
     ]
    }
   ],
   "source": [
    "skip = 100000000\n",
    "for filename in filename_list:\n",
    "    print(f\"Reading in {nrows} records starting at {skip}\")\n",
    "    df = pd.read_csv(f\"{filepath}{filename}\", sep=',', skiprows=skip, nrows=nrows, header=None, names=column_names, encoding='utf-8', on_bad_lines='skip')\n",
    "    \n",
    "    columns_to_drop = ['steam_china_location']\n",
    "\n",
    "    df.drop(columns=columns_to_drop, inplace=True)\n",
    "    \n",
    "    print(df)\n",
    "    skip = skip + nrows\n",
    "\n",
    "    break"
   ]
  },
  {
   "cell_type": "code",
   "execution_count": 35,
   "id": "769d12e8",
   "metadata": {},
   "outputs": [],
   "source": [
    "df.dropna(inplace=True)"
   ]
  },
  {
   "cell_type": "code",
   "execution_count": 36,
   "id": "e4473ac0",
   "metadata": {},
   "outputs": [],
   "source": [
    "df_ninth = df.copy()"
   ]
  },
  {
   "cell_type": "code",
   "execution_count": 37,
   "id": "60ad5208",
   "metadata": {
    "scrolled": true
   },
   "outputs": [
    {
     "name": "stdout",
     "output_type": "stream",
     "text": [
      "Reading in 10000000 records starting at 90000000\n"
     ]
    },
    {
     "name": "stderr",
     "output_type": "stream",
     "text": [
      "/tmp/ipykernel_89537/1517049689.py:3: DtypeWarning: Columns (23) have mixed types. Specify dtype option on import or set low_memory=False.\n",
      "  df = pd.read_csv(f\"{filepath}{filename}\", sep=',', skiprows=skip, nrows=nrows, header=None, names=column_names, encoding='utf-8', on_bad_lines='skip')\n"
     ]
    },
    {
     "name": "stdout",
     "output_type": "stream",
     "text": [
      "         recommendationid   appid              game     author_steamid  \\\n",
      "0                34716117  621010        Headmaster  76561198131420201   \n",
      "1                34714950  621010        Headmaster  76561198405260074   \n",
      "2                34678417  621010        Headmaster  76561197968511615   \n",
      "3                34667236  621010        Headmaster  76561198216850752   \n",
      "4               148301680  621020     Antigraviator  76561199013032156   \n",
      "...                   ...     ...               ...                ...   \n",
      "9999995          62124981     730  Counter-Strike 2  76561199004969854   \n",
      "9999996          62124958     730  Counter-Strike 2  76561198832949783   \n",
      "9999997          62124948     730  Counter-Strike 2  76561198995177662   \n",
      "9999998          62124947     730  Counter-Strike 2  76561198855348989   \n",
      "9999999          62124935     730  Counter-Strike 2  76561198336111130   \n",
      "\n",
      "         author_num_games_owned  author_num_reviews  author_playtime_forever  \\\n",
      "0                             0                   1                      630   \n",
      "1                             0                   4                     2071   \n",
      "2                             0                   6                      377   \n",
      "3                             0                  18                      661   \n",
      "4                             0                  12                        6   \n",
      "...                         ...                 ...                      ...   \n",
      "9999995                      52                   2                    89011   \n",
      "9999996                       0                   5                     5813   \n",
      "9999997                      12                   1                    18483   \n",
      "9999998                       8                   2                   121657   \n",
      "9999999                      14                   1                    49826   \n",
      "\n",
      "         author_playtime_last_two_weeks  author_playtime_at_review  \\\n",
      "0                                     0                        399   \n",
      "1                                     0                        670   \n",
      "2                                     0                        295   \n",
      "3                                     0                        131   \n",
      "4                                     0                          6   \n",
      "...                                 ...                        ...   \n",
      "9999995                               0                      23102   \n",
      "9999996                               0                       4546   \n",
      "9999997                               0                        276   \n",
      "9999998                               0                      30894   \n",
      "9999999                            2253                      26095   \n",
      "\n",
      "         author_last_played  ... timestamp_updated voted_up  votes_up  \\\n",
      "0                1679607669  ...        1504456496        1         0   \n",
      "1                1680372964  ...        1504453588        1         0   \n",
      "2                1581746395  ...        1504336945        1         4   \n",
      "3                1590706352  ...        1504293511        1         7   \n",
      "4                1697399418  ...        1697401260        1         1   \n",
      "...                     ...  ...               ...      ...       ...   \n",
      "9999995          1693525733  ...        1579505149        1         0   \n",
      "9999996          1599163399  ...        1579505094        1         0   \n",
      "9999997          1691591577  ...        1579505069        1         0   \n",
      "9999998          1639085364  ...        1579505068        1         0   \n",
      "9999999          1698850996  ...        1579505045        1         0   \n",
      "\n",
      "         votes_funny  weighted_vote_score  comment_count  steam_purchase  \\\n",
      "0                  0             0.000000              0               1   \n",
      "1                  0             0.000000              0               1   \n",
      "2                  0             0.565217              0               1   \n",
      "3                  0             0.581298              0               1   \n",
      "4                  0             0.526316              0               0   \n",
      "...              ...                  ...            ...             ...   \n",
      "9999995            0             0.000000              0               0   \n",
      "9999996            0             0.000000              0               1   \n",
      "9999997            0             0.000000              0               0   \n",
      "9999998            0             0.000000              0               0   \n",
      "9999999            0             0.000000              0               1   \n",
      "\n",
      "         received_for_free  written_during_early_access  hidden_in_steam_china  \n",
      "0                        0                            0                      0  \n",
      "1                        0                            0                      0  \n",
      "2                        0                            0                      0  \n",
      "3                        0                            0                      0  \n",
      "4                        0                            0                      1  \n",
      "...                    ...                          ...                    ...  \n",
      "9999995                  0                            0                      0  \n",
      "9999996                  0                            0                      0  \n",
      "9999997                  0                            0                      0  \n",
      "9999998                  0                            0                      0  \n",
      "9999999                  0                            0                      0  \n",
      "\n",
      "[10000000 rows x 23 columns]\n"
     ]
    }
   ],
   "source": [
    "for filename in filename_list:\n",
    "    print(f\"Reading in {nrows} records starting at {skip}\")\n",
    "    df = pd.read_csv(f\"{filepath}{filename}\", sep=',', skiprows=skip, nrows=nrows, header=None, names=column_names, encoding='utf-8', on_bad_lines='skip')\n",
    "    \n",
    "    columns_to_drop = ['steam_china_location']\n",
    "\n",
    "    df.drop(columns=columns_to_drop, inplace=True)\n",
    "    \n",
    "    print(df)\n",
    "    skip = skip + nrows\n",
    "\n",
    "    break"
   ]
  },
  {
   "cell_type": "code",
   "execution_count": 38,
   "id": "57fd57cb",
   "metadata": {},
   "outputs": [],
   "source": [
    "df.dropna(inplace=True)"
   ]
  },
  {
   "cell_type": "code",
   "execution_count": 39,
   "id": "bdce3ffb",
   "metadata": {},
   "outputs": [],
   "source": [
    "df_tenth = df.copy()"
   ]
  },
  {
   "cell_type": "code",
   "execution_count": 40,
   "id": "145ae165",
   "metadata": {},
   "outputs": [],
   "source": [
    "combine_df = pd.concat([df_ninth, df_tenth])"
   ]
  },
  {
   "cell_type": "code",
   "execution_count": 41,
   "id": "70336e50",
   "metadata": {},
   "outputs": [],
   "source": [
    "combine_df.drop(columns=['steam_purchase', 'received_for_free', 'written_during_early_access', \n",
    "                   'hidden_in_steam_china', 'steam_purchase', \n",
    "                   'timestamp_created', 'timestamp_updated', 'author_last_played', \n",
    "                   'author_playtime_last_two_weeks', 'author_num_games_owned'], inplace=True)"
   ]
  },
  {
   "cell_type": "code",
   "execution_count": 43,
   "id": "147cef31",
   "metadata": {},
   "outputs": [],
   "source": [
    "del df_ninth\n",
    "del df_tenth"
   ]
  },
  {
   "cell_type": "code",
   "execution_count": 44,
   "id": "62f85d7c",
   "metadata": {},
   "outputs": [],
   "source": [
    "# Define the file path for the cleaned folder\n",
    "cleaned_filepath = \"gcs://my-bucket-an/cleaned/\"\n",
    "\n",
    "# Write combine_df to Parquet file\n",
    "combine_df.to_parquet(f\"{cleaned_filepath}reviews3.parquet\", index=False)"
   ]
  },
  {
   "cell_type": "code",
   "execution_count": 3,
   "id": "2559f0b8",
   "metadata": {
    "scrolled": true
   },
   "outputs": [
    {
     "name": "stdout",
     "output_type": "stream",
     "text": [
      "Reading in 10000000 records starting at 100000000\n"
     ]
    },
    {
     "name": "stderr",
     "output_type": "stream",
     "text": [
      "/tmp/ipykernel_114690/1325077191.py:4: DtypeWarning: Columns (23) have mixed types. Specify dtype option on import or set low_memory=False.\n",
      "  df = pd.read_csv(f\"{filepath}{filename}\", sep=',', skiprows=skip, nrows=nrows, header=None, names=column_names, encoding='utf-8', on_bad_lines='skip')\n"
     ]
    },
    {
     "name": "stdout",
     "output_type": "stream",
     "text": [
      "         recommendationid  appid                          game  \\\n",
      "0                62124925    730              Counter-Strike 2   \n",
      "1                62124922    730              Counter-Strike 2   \n",
      "2                62124879    730              Counter-Strike 2   \n",
      "3                62124859    730              Counter-Strike 2   \n",
      "4                62124858    730              Counter-Strike 2   \n",
      "...                   ...    ...                           ...   \n",
      "9999995          65887978   9010  Return to Castle Wolfenstein   \n",
      "9999996          65867789   9010  Return to Castle Wolfenstein   \n",
      "9999997          65781982   9010  Return to Castle Wolfenstein   \n",
      "9999998          65728087   9010  Return to Castle Wolfenstein   \n",
      "9999999          65713206   9010  Return to Castle Wolfenstein   \n",
      "\n",
      "            author_steamid  author_num_games_owned  author_num_reviews  \\\n",
      "0        76561198975148844                      35                   3   \n",
      "1        76561198981370164                       5                   1   \n",
      "2        76561198161761534                     273                  32   \n",
      "3        76561198800878289                     165                  11   \n",
      "4        76561198368810003                      27                  12   \n",
      "...                    ...                     ...                 ...   \n",
      "9999995  76561198202646800                      47                  13   \n",
      "9999996  76561198067666435                       0                   2   \n",
      "9999997  76561198391772387                      54                  30   \n",
      "9999998  76561198988879336                      95                  62   \n",
      "9999999  76561198288892213                       0                   3   \n",
      "\n",
      "         author_playtime_forever  author_playtime_last_two_weeks  \\\n",
      "0                          48276                             262   \n",
      "1                          27066                               0   \n",
      "2                           3670                               0   \n",
      "3                           7075                               0   \n",
      "4                          29913                               0   \n",
      "...                          ...                             ...   \n",
      "9999995                      133                               0   \n",
      "9999996                     1023                               0   \n",
      "9999997                      728                               0   \n",
      "9999998                      662                               0   \n",
      "9999999                      633                               0   \n",
      "\n",
      "         author_playtime_at_review  author_last_played  ... timestamp_updated  \\\n",
      "0                              480          1698446613  ...        1579505021   \n",
      "1                              887          1674190666  ...        1579505014   \n",
      "2                             3283          1696896574  ...        1591578393   \n",
      "3                             3237          1697029298  ...        1579504877   \n",
      "4                              925          1655983319  ...        1579504874   \n",
      "...                            ...                 ...  ...               ...   \n",
      "9999995                        133          1499090752  ...        1585260271   \n",
      "9999996                        386          1604520038  ...        1585239779   \n",
      "9999997                        390          1590346301  ...        1585141843   \n",
      "9999998                        212          1689015760  ...        1585075833   \n",
      "9999999                        625          1605919358  ...        1585062052   \n",
      "\n",
      "        voted_up  votes_up  votes_funny  weighted_vote_score  comment_count  \\\n",
      "0              1         0            0              0.00000              0   \n",
      "1              1         0            0              0.00000              0   \n",
      "2              1         0            0              0.00000              1   \n",
      "3              1         0            0              0.00000              0   \n",
      "4              1         0            0              0.00000              0   \n",
      "...          ...       ...          ...                  ...            ...   \n",
      "9999995        1         0            0              0.00000              0   \n",
      "9999996        1         0            0              0.00000              0   \n",
      "9999997        1         0            0              0.00000              0   \n",
      "9999998        1         0            0              0.47619              0   \n",
      "9999999        1         1            0              0.00000              0   \n",
      "\n",
      "         steam_purchase  received_for_free  written_during_early_access  \\\n",
      "0                     0                  1                            0   \n",
      "1                     0                  1                            0   \n",
      "2                     1                  0                            0   \n",
      "3                     0                  0                            0   \n",
      "4                     1                  1                            0   \n",
      "...                 ...                ...                          ...   \n",
      "9999995               1                  0                            0   \n",
      "9999996               1                  0                            0   \n",
      "9999997               0                  0                            0   \n",
      "9999998               1                  0                            0   \n",
      "9999999               0                  0                            0   \n",
      "\n",
      "         hidden_in_steam_china  \n",
      "0                            0  \n",
      "1                            0  \n",
      "2                            0  \n",
      "3                            0  \n",
      "4                            0  \n",
      "...                        ...  \n",
      "9999995                      0  \n",
      "9999996                      0  \n",
      "9999997                      0  \n",
      "9999998                      0  \n",
      "9999999                      0  \n",
      "\n",
      "[10000000 rows x 23 columns]\n",
      "Reading in 10000000 records starting at 110000000\n"
     ]
    },
    {
     "ename": "KeyboardInterrupt",
     "evalue": "",
     "output_type": "error",
     "traceback": [
      "\u001b[0;31m---------------------------------------------------------------------------\u001b[0m",
      "\u001b[0;31mKeyboardInterrupt\u001b[0m                         Traceback (most recent call last)",
      "Cell \u001b[0;32mIn[3], line 4\u001b[0m\n\u001b[1;32m      2\u001b[0m \u001b[38;5;28;01mwhile\u001b[39;00m (skip \u001b[38;5;241m<\u001b[39m total_rows_to_read):\n\u001b[1;32m      3\u001b[0m     \u001b[38;5;28mprint\u001b[39m(\u001b[38;5;124mf\u001b[39m\u001b[38;5;124m\"\u001b[39m\u001b[38;5;124mReading in \u001b[39m\u001b[38;5;132;01m{\u001b[39;00mnrows\u001b[38;5;132;01m}\u001b[39;00m\u001b[38;5;124m records starting at \u001b[39m\u001b[38;5;132;01m{\u001b[39;00mskip\u001b[38;5;132;01m}\u001b[39;00m\u001b[38;5;124m\"\u001b[39m)\n\u001b[0;32m----> 4\u001b[0m     df \u001b[38;5;241m=\u001b[39m \u001b[43mpd\u001b[49m\u001b[38;5;241;43m.\u001b[39;49m\u001b[43mread_csv\u001b[49m\u001b[43m(\u001b[49m\u001b[38;5;124;43mf\u001b[39;49m\u001b[38;5;124;43m\"\u001b[39;49m\u001b[38;5;132;43;01m{\u001b[39;49;00m\u001b[43mfilepath\u001b[49m\u001b[38;5;132;43;01m}\u001b[39;49;00m\u001b[38;5;132;43;01m{\u001b[39;49;00m\u001b[43mfilename\u001b[49m\u001b[38;5;132;43;01m}\u001b[39;49;00m\u001b[38;5;124;43m\"\u001b[39;49m\u001b[43m,\u001b[49m\u001b[43m \u001b[49m\u001b[43msep\u001b[49m\u001b[38;5;241;43m=\u001b[39;49m\u001b[38;5;124;43m'\u001b[39;49m\u001b[38;5;124;43m,\u001b[39;49m\u001b[38;5;124;43m'\u001b[39;49m\u001b[43m,\u001b[49m\u001b[43m \u001b[49m\u001b[43mskiprows\u001b[49m\u001b[38;5;241;43m=\u001b[39;49m\u001b[43mskip\u001b[49m\u001b[43m,\u001b[49m\u001b[43m \u001b[49m\u001b[43mnrows\u001b[49m\u001b[38;5;241;43m=\u001b[39;49m\u001b[43mnrows\u001b[49m\u001b[43m,\u001b[49m\u001b[43m \u001b[49m\u001b[43mheader\u001b[49m\u001b[38;5;241;43m=\u001b[39;49m\u001b[38;5;28;43;01mNone\u001b[39;49;00m\u001b[43m,\u001b[49m\u001b[43m \u001b[49m\u001b[43mnames\u001b[49m\u001b[38;5;241;43m=\u001b[39;49m\u001b[43mcolumn_names\u001b[49m\u001b[43m,\u001b[49m\u001b[43m \u001b[49m\u001b[43mencoding\u001b[49m\u001b[38;5;241;43m=\u001b[39;49m\u001b[38;5;124;43m'\u001b[39;49m\u001b[38;5;124;43mutf-8\u001b[39;49m\u001b[38;5;124;43m'\u001b[39;49m\u001b[43m,\u001b[49m\u001b[43m \u001b[49m\u001b[43mon_bad_lines\u001b[49m\u001b[38;5;241;43m=\u001b[39;49m\u001b[38;5;124;43m'\u001b[39;49m\u001b[38;5;124;43mskip\u001b[39;49m\u001b[38;5;124;43m'\u001b[39;49m\u001b[43m)\u001b[49m\n\u001b[1;32m      6\u001b[0m     columns_to_drop \u001b[38;5;241m=\u001b[39m [\u001b[38;5;124m'\u001b[39m\u001b[38;5;124msteam_china_location\u001b[39m\u001b[38;5;124m'\u001b[39m]\n\u001b[1;32m      8\u001b[0m     df\u001b[38;5;241m.\u001b[39mdrop(columns\u001b[38;5;241m=\u001b[39mcolumns_to_drop, inplace\u001b[38;5;241m=\u001b[39m\u001b[38;5;28;01mTrue\u001b[39;00m)\n",
      "File \u001b[0;32m/opt/conda/miniconda3/lib/python3.11/site-packages/pandas/io/parsers/readers.py:948\u001b[0m, in \u001b[0;36mread_csv\u001b[0;34m(filepath_or_buffer, sep, delimiter, header, names, index_col, usecols, dtype, engine, converters, true_values, false_values, skipinitialspace, skiprows, skipfooter, nrows, na_values, keep_default_na, na_filter, verbose, skip_blank_lines, parse_dates, infer_datetime_format, keep_date_col, date_parser, date_format, dayfirst, cache_dates, iterator, chunksize, compression, thousands, decimal, lineterminator, quotechar, quoting, doublequote, escapechar, comment, encoding, encoding_errors, dialect, on_bad_lines, delim_whitespace, low_memory, memory_map, float_precision, storage_options, dtype_backend)\u001b[0m\n\u001b[1;32m    935\u001b[0m kwds_defaults \u001b[38;5;241m=\u001b[39m _refine_defaults_read(\n\u001b[1;32m    936\u001b[0m     dialect,\n\u001b[1;32m    937\u001b[0m     delimiter,\n\u001b[0;32m   (...)\u001b[0m\n\u001b[1;32m    944\u001b[0m     dtype_backend\u001b[38;5;241m=\u001b[39mdtype_backend,\n\u001b[1;32m    945\u001b[0m )\n\u001b[1;32m    946\u001b[0m kwds\u001b[38;5;241m.\u001b[39mupdate(kwds_defaults)\n\u001b[0;32m--> 948\u001b[0m \u001b[38;5;28;01mreturn\u001b[39;00m \u001b[43m_read\u001b[49m\u001b[43m(\u001b[49m\u001b[43mfilepath_or_buffer\u001b[49m\u001b[43m,\u001b[49m\u001b[43m \u001b[49m\u001b[43mkwds\u001b[49m\u001b[43m)\u001b[49m\n",
      "File \u001b[0;32m/opt/conda/miniconda3/lib/python3.11/site-packages/pandas/io/parsers/readers.py:611\u001b[0m, in \u001b[0;36m_read\u001b[0;34m(filepath_or_buffer, kwds)\u001b[0m\n\u001b[1;32m    608\u001b[0m _validate_names(kwds\u001b[38;5;241m.\u001b[39mget(\u001b[38;5;124m\"\u001b[39m\u001b[38;5;124mnames\u001b[39m\u001b[38;5;124m\"\u001b[39m, \u001b[38;5;28;01mNone\u001b[39;00m))\n\u001b[1;32m    610\u001b[0m \u001b[38;5;66;03m# Create the parser.\u001b[39;00m\n\u001b[0;32m--> 611\u001b[0m parser \u001b[38;5;241m=\u001b[39m \u001b[43mTextFileReader\u001b[49m\u001b[43m(\u001b[49m\u001b[43mfilepath_or_buffer\u001b[49m\u001b[43m,\u001b[49m\u001b[43m \u001b[49m\u001b[38;5;241;43m*\u001b[39;49m\u001b[38;5;241;43m*\u001b[39;49m\u001b[43mkwds\u001b[49m\u001b[43m)\u001b[49m\n\u001b[1;32m    613\u001b[0m \u001b[38;5;28;01mif\u001b[39;00m chunksize \u001b[38;5;129;01mor\u001b[39;00m iterator:\n\u001b[1;32m    614\u001b[0m     \u001b[38;5;28;01mreturn\u001b[39;00m parser\n",
      "File \u001b[0;32m/opt/conda/miniconda3/lib/python3.11/site-packages/pandas/io/parsers/readers.py:1448\u001b[0m, in \u001b[0;36mTextFileReader.__init__\u001b[0;34m(self, f, engine, **kwds)\u001b[0m\n\u001b[1;32m   1445\u001b[0m     \u001b[38;5;28mself\u001b[39m\u001b[38;5;241m.\u001b[39moptions[\u001b[38;5;124m\"\u001b[39m\u001b[38;5;124mhas_index_names\u001b[39m\u001b[38;5;124m\"\u001b[39m] \u001b[38;5;241m=\u001b[39m kwds[\u001b[38;5;124m\"\u001b[39m\u001b[38;5;124mhas_index_names\u001b[39m\u001b[38;5;124m\"\u001b[39m]\n\u001b[1;32m   1447\u001b[0m \u001b[38;5;28mself\u001b[39m\u001b[38;5;241m.\u001b[39mhandles: IOHandles \u001b[38;5;241m|\u001b[39m \u001b[38;5;28;01mNone\u001b[39;00m \u001b[38;5;241m=\u001b[39m \u001b[38;5;28;01mNone\u001b[39;00m\n\u001b[0;32m-> 1448\u001b[0m \u001b[38;5;28mself\u001b[39m\u001b[38;5;241m.\u001b[39m_engine \u001b[38;5;241m=\u001b[39m \u001b[38;5;28;43mself\u001b[39;49m\u001b[38;5;241;43m.\u001b[39;49m\u001b[43m_make_engine\u001b[49m\u001b[43m(\u001b[49m\u001b[43mf\u001b[49m\u001b[43m,\u001b[49m\u001b[43m \u001b[49m\u001b[38;5;28;43mself\u001b[39;49m\u001b[38;5;241;43m.\u001b[39;49m\u001b[43mengine\u001b[49m\u001b[43m)\u001b[49m\n",
      "File \u001b[0;32m/opt/conda/miniconda3/lib/python3.11/site-packages/pandas/io/parsers/readers.py:1723\u001b[0m, in \u001b[0;36mTextFileReader._make_engine\u001b[0;34m(self, f, engine)\u001b[0m\n\u001b[1;32m   1720\u001b[0m     \u001b[38;5;28;01mraise\u001b[39;00m \u001b[38;5;167;01mValueError\u001b[39;00m(msg)\n\u001b[1;32m   1722\u001b[0m \u001b[38;5;28;01mtry\u001b[39;00m:\n\u001b[0;32m-> 1723\u001b[0m     \u001b[38;5;28;01mreturn\u001b[39;00m \u001b[43mmapping\u001b[49m\u001b[43m[\u001b[49m\u001b[43mengine\u001b[49m\u001b[43m]\u001b[49m\u001b[43m(\u001b[49m\u001b[43mf\u001b[49m\u001b[43m,\u001b[49m\u001b[43m \u001b[49m\u001b[38;5;241;43m*\u001b[39;49m\u001b[38;5;241;43m*\u001b[39;49m\u001b[38;5;28;43mself\u001b[39;49m\u001b[38;5;241;43m.\u001b[39;49m\u001b[43moptions\u001b[49m\u001b[43m)\u001b[49m\n\u001b[1;32m   1724\u001b[0m \u001b[38;5;28;01mexcept\u001b[39;00m \u001b[38;5;167;01mException\u001b[39;00m:\n\u001b[1;32m   1725\u001b[0m     \u001b[38;5;28;01mif\u001b[39;00m \u001b[38;5;28mself\u001b[39m\u001b[38;5;241m.\u001b[39mhandles \u001b[38;5;129;01mis\u001b[39;00m \u001b[38;5;129;01mnot\u001b[39;00m \u001b[38;5;28;01mNone\u001b[39;00m:\n",
      "File \u001b[0;32m/opt/conda/miniconda3/lib/python3.11/site-packages/pandas/io/parsers/c_parser_wrapper.py:93\u001b[0m, in \u001b[0;36mCParserWrapper.__init__\u001b[0;34m(self, src, **kwds)\u001b[0m\n\u001b[1;32m     90\u001b[0m \u001b[38;5;28;01mif\u001b[39;00m kwds[\u001b[38;5;124m\"\u001b[39m\u001b[38;5;124mdtype_backend\u001b[39m\u001b[38;5;124m\"\u001b[39m] \u001b[38;5;241m==\u001b[39m \u001b[38;5;124m\"\u001b[39m\u001b[38;5;124mpyarrow\u001b[39m\u001b[38;5;124m\"\u001b[39m:\n\u001b[1;32m     91\u001b[0m     \u001b[38;5;66;03m# Fail here loudly instead of in cython after reading\u001b[39;00m\n\u001b[1;32m     92\u001b[0m     import_optional_dependency(\u001b[38;5;124m\"\u001b[39m\u001b[38;5;124mpyarrow\u001b[39m\u001b[38;5;124m\"\u001b[39m)\n\u001b[0;32m---> 93\u001b[0m \u001b[38;5;28mself\u001b[39m\u001b[38;5;241m.\u001b[39m_reader \u001b[38;5;241m=\u001b[39m \u001b[43mparsers\u001b[49m\u001b[38;5;241;43m.\u001b[39;49m\u001b[43mTextReader\u001b[49m\u001b[43m(\u001b[49m\u001b[43msrc\u001b[49m\u001b[43m,\u001b[49m\u001b[43m \u001b[49m\u001b[38;5;241;43m*\u001b[39;49m\u001b[38;5;241;43m*\u001b[39;49m\u001b[43mkwds\u001b[49m\u001b[43m)\u001b[49m\n\u001b[1;32m     95\u001b[0m \u001b[38;5;28mself\u001b[39m\u001b[38;5;241m.\u001b[39munnamed_cols \u001b[38;5;241m=\u001b[39m \u001b[38;5;28mself\u001b[39m\u001b[38;5;241m.\u001b[39m_reader\u001b[38;5;241m.\u001b[39munnamed_cols\n\u001b[1;32m     97\u001b[0m \u001b[38;5;66;03m# error: Cannot determine type of 'names'\u001b[39;00m\n",
      "File \u001b[0;32mparsers.pyx:579\u001b[0m, in \u001b[0;36mpandas._libs.parsers.TextReader.__cinit__\u001b[0;34m()\u001b[0m\n",
      "File \u001b[0;32mparsers.pyx:771\u001b[0m, in \u001b[0;36mpandas._libs.parsers.TextReader._get_header\u001b[0;34m()\u001b[0m\n",
      "File \u001b[0;32mparsers.pyx:879\u001b[0m, in \u001b[0;36mpandas._libs.parsers.TextReader._tokenize_rows\u001b[0;34m()\u001b[0m\n",
      "File \u001b[0;32mparsers.pyx:890\u001b[0m, in \u001b[0;36mpandas._libs.parsers.TextReader._check_tokenize_status\u001b[0;34m()\u001b[0m\n",
      "File \u001b[0;32mparsers.pyx:2050\u001b[0m, in \u001b[0;36mpandas._libs.parsers.raise_parser_error\u001b[0;34m()\u001b[0m\n",
      "File \u001b[0;32m/opt/conda/miniconda3/lib/python3.11/site-packages/gcsfs/core.py:1850\u001b[0m, in \u001b[0;36mGCSFile._fetch_range\u001b[0;34m(self, start, end)\u001b[0m\n\u001b[1;32m   1844\u001b[0m \u001b[38;5;250m\u001b[39m\u001b[38;5;124;03m\"\"\"Get data from GCS\u001b[39;00m\n\u001b[1;32m   1845\u001b[0m \n\u001b[1;32m   1846\u001b[0m \u001b[38;5;124;03mstart, end : None or integers\u001b[39;00m\n\u001b[1;32m   1847\u001b[0m \u001b[38;5;124;03m    if not both None, fetch only given range\u001b[39;00m\n\u001b[1;32m   1848\u001b[0m \u001b[38;5;124;03m\"\"\"\u001b[39;00m\n\u001b[1;32m   1849\u001b[0m \u001b[38;5;28;01mtry\u001b[39;00m:\n\u001b[0;32m-> 1850\u001b[0m     \u001b[38;5;28;01mreturn\u001b[39;00m \u001b[38;5;28;43mself\u001b[39;49m\u001b[38;5;241;43m.\u001b[39;49m\u001b[43mgcsfs\u001b[49m\u001b[38;5;241;43m.\u001b[39;49m\u001b[43mcat_file\u001b[49m\u001b[43m(\u001b[49m\u001b[38;5;28;43mself\u001b[39;49m\u001b[38;5;241;43m.\u001b[39;49m\u001b[43mpath\u001b[49m\u001b[43m,\u001b[49m\u001b[43m \u001b[49m\u001b[43mstart\u001b[49m\u001b[38;5;241;43m=\u001b[39;49m\u001b[43mstart\u001b[49m\u001b[43m,\u001b[49m\u001b[43m \u001b[49m\u001b[43mend\u001b[49m\u001b[38;5;241;43m=\u001b[39;49m\u001b[43mend\u001b[49m\u001b[43m)\u001b[49m\n\u001b[1;32m   1851\u001b[0m \u001b[38;5;28;01mexcept\u001b[39;00m \u001b[38;5;167;01mRuntimeError\u001b[39;00m \u001b[38;5;28;01mas\u001b[39;00m e:\n\u001b[1;32m   1852\u001b[0m     \u001b[38;5;28;01mif\u001b[39;00m \u001b[38;5;124m\"\u001b[39m\u001b[38;5;124mnot satisfiable\u001b[39m\u001b[38;5;124m\"\u001b[39m \u001b[38;5;129;01min\u001b[39;00m \u001b[38;5;28mstr\u001b[39m(e):\n",
      "File \u001b[0;32m/opt/conda/miniconda3/lib/python3.11/site-packages/fsspec/asyn.py:118\u001b[0m, in \u001b[0;36msync_wrapper.<locals>.wrapper\u001b[0;34m(*args, **kwargs)\u001b[0m\n\u001b[1;32m    115\u001b[0m \u001b[38;5;129m@functools\u001b[39m\u001b[38;5;241m.\u001b[39mwraps(func)\n\u001b[1;32m    116\u001b[0m \u001b[38;5;28;01mdef\u001b[39;00m \u001b[38;5;21mwrapper\u001b[39m(\u001b[38;5;241m*\u001b[39margs, \u001b[38;5;241m*\u001b[39m\u001b[38;5;241m*\u001b[39mkwargs):\n\u001b[1;32m    117\u001b[0m     \u001b[38;5;28mself\u001b[39m \u001b[38;5;241m=\u001b[39m obj \u001b[38;5;129;01mor\u001b[39;00m args[\u001b[38;5;241m0\u001b[39m]\n\u001b[0;32m--> 118\u001b[0m     \u001b[38;5;28;01mreturn\u001b[39;00m \u001b[43msync\u001b[49m\u001b[43m(\u001b[49m\u001b[38;5;28;43mself\u001b[39;49m\u001b[38;5;241;43m.\u001b[39;49m\u001b[43mloop\u001b[49m\u001b[43m,\u001b[49m\u001b[43m \u001b[49m\u001b[43mfunc\u001b[49m\u001b[43m,\u001b[49m\u001b[43m \u001b[49m\u001b[38;5;241;43m*\u001b[39;49m\u001b[43margs\u001b[49m\u001b[43m,\u001b[49m\u001b[43m \u001b[49m\u001b[38;5;241;43m*\u001b[39;49m\u001b[38;5;241;43m*\u001b[39;49m\u001b[43mkwargs\u001b[49m\u001b[43m)\u001b[49m\n",
      "File \u001b[0;32m/opt/conda/miniconda3/lib/python3.11/site-packages/fsspec/asyn.py:91\u001b[0m, in \u001b[0;36msync\u001b[0;34m(loop, func, timeout, *args, **kwargs)\u001b[0m\n\u001b[1;32m     88\u001b[0m asyncio\u001b[38;5;241m.\u001b[39mrun_coroutine_threadsafe(_runner(event, coro, result, timeout), loop)\n\u001b[1;32m     89\u001b[0m \u001b[38;5;28;01mwhile\u001b[39;00m \u001b[38;5;28;01mTrue\u001b[39;00m:\n\u001b[1;32m     90\u001b[0m     \u001b[38;5;66;03m# this loops allows thread to get interrupted\u001b[39;00m\n\u001b[0;32m---> 91\u001b[0m     \u001b[38;5;28;01mif\u001b[39;00m \u001b[43mevent\u001b[49m\u001b[38;5;241;43m.\u001b[39;49m\u001b[43mwait\u001b[49m\u001b[43m(\u001b[49m\u001b[38;5;241;43m1\u001b[39;49m\u001b[43m)\u001b[49m:\n\u001b[1;32m     92\u001b[0m         \u001b[38;5;28;01mbreak\u001b[39;00m\n\u001b[1;32m     93\u001b[0m     \u001b[38;5;28;01mif\u001b[39;00m timeout \u001b[38;5;129;01mis\u001b[39;00m \u001b[38;5;129;01mnot\u001b[39;00m \u001b[38;5;28;01mNone\u001b[39;00m:\n",
      "File \u001b[0;32m/opt/conda/miniconda3/lib/python3.11/threading.py:629\u001b[0m, in \u001b[0;36mEvent.wait\u001b[0;34m(self, timeout)\u001b[0m\n\u001b[1;32m    627\u001b[0m signaled \u001b[38;5;241m=\u001b[39m \u001b[38;5;28mself\u001b[39m\u001b[38;5;241m.\u001b[39m_flag\n\u001b[1;32m    628\u001b[0m \u001b[38;5;28;01mif\u001b[39;00m \u001b[38;5;129;01mnot\u001b[39;00m signaled:\n\u001b[0;32m--> 629\u001b[0m     signaled \u001b[38;5;241m=\u001b[39m \u001b[38;5;28;43mself\u001b[39;49m\u001b[38;5;241;43m.\u001b[39;49m\u001b[43m_cond\u001b[49m\u001b[38;5;241;43m.\u001b[39;49m\u001b[43mwait\u001b[49m\u001b[43m(\u001b[49m\u001b[43mtimeout\u001b[49m\u001b[43m)\u001b[49m\n\u001b[1;32m    630\u001b[0m \u001b[38;5;28;01mreturn\u001b[39;00m signaled\n",
      "File \u001b[0;32m/opt/conda/miniconda3/lib/python3.11/threading.py:331\u001b[0m, in \u001b[0;36mCondition.wait\u001b[0;34m(self, timeout)\u001b[0m\n\u001b[1;32m    329\u001b[0m \u001b[38;5;28;01melse\u001b[39;00m:\n\u001b[1;32m    330\u001b[0m     \u001b[38;5;28;01mif\u001b[39;00m timeout \u001b[38;5;241m>\u001b[39m \u001b[38;5;241m0\u001b[39m:\n\u001b[0;32m--> 331\u001b[0m         gotit \u001b[38;5;241m=\u001b[39m \u001b[43mwaiter\u001b[49m\u001b[38;5;241;43m.\u001b[39;49m\u001b[43macquire\u001b[49m\u001b[43m(\u001b[49m\u001b[38;5;28;43;01mTrue\u001b[39;49;00m\u001b[43m,\u001b[49m\u001b[43m \u001b[49m\u001b[43mtimeout\u001b[49m\u001b[43m)\u001b[49m\n\u001b[1;32m    332\u001b[0m     \u001b[38;5;28;01melse\u001b[39;00m:\n\u001b[1;32m    333\u001b[0m         gotit \u001b[38;5;241m=\u001b[39m waiter\u001b[38;5;241m.\u001b[39macquire(\u001b[38;5;28;01mFalse\u001b[39;00m)\n",
      "\u001b[0;31mKeyboardInterrupt\u001b[0m: "
     ]
    }
   ],
   "source": [
    "skip = 100000000\n",
    "while (skip < total_rows_to_read):\n",
    "    print(f\"Reading in {nrows} records starting at {skip}\")\n",
    "    df = pd.read_csv(f\"{filepath}{filename}\", sep=',', skiprows=skip, nrows=nrows, header=None, names=column_names, encoding='utf-8', on_bad_lines='skip')\n",
    "    \n",
    "    columns_to_drop = ['steam_china_location']\n",
    "\n",
    "    df.drop(columns=columns_to_drop, inplace=True)\n",
    "    \n",
    "    print(df)\n",
    "    skip = skip + nrows"
   ]
  },
  {
   "cell_type": "code",
   "execution_count": 5,
   "id": "e3155bfc",
   "metadata": {
    "scrolled": true
   },
   "outputs": [],
   "source": [
    "df.dropna(inplace=True)"
   ]
  },
  {
   "cell_type": "code",
   "execution_count": 6,
   "id": "f7f37be4",
   "metadata": {},
   "outputs": [],
   "source": [
    "df_eleventh = df.copy()"
   ]
  },
  {
   "cell_type": "code",
   "execution_count": 8,
   "id": "5028f38e",
   "metadata": {
    "scrolled": true
   },
   "outputs": [],
   "source": [
    "while (skip < total_rows_to_read):\n",
    "    print(f\"Reading in {nrows} records starting at {skip}\")\n",
    "    df = pd.read_csv(f\"{filepath}{filename}\", sep=',', skiprows=skip, nrows=nrows, header=None, names=column_names, encoding='utf-8', on_bad_lines='skip')\n",
    "    \n",
    "    columns_to_drop = ['steam_china_location']\n",
    "\n",
    "    df.drop(columns=columns_to_drop, inplace=True)\n",
    "    \n",
    "    print(df)\n",
    "    skip = skip + nrows"
   ]
  },
  {
   "cell_type": "code",
   "execution_count": 9,
   "id": "14b82172",
   "metadata": {},
   "outputs": [],
   "source": [
    "df.dropna(inplace=True)"
   ]
  },
  {
   "cell_type": "code",
   "execution_count": 10,
   "id": "7b8a1f45",
   "metadata": {},
   "outputs": [
    {
     "name": "stdout",
     "output_type": "stream",
     "text": [
      "<class 'pandas.core.frame.DataFrame'>\n",
      "Index: 3883049 entries, 0 to 3883717\n",
      "Data columns (total 23 columns):\n",
      " #   Column                          Dtype  \n",
      "---  ------                          -----  \n",
      " 0   recommendationid                int64  \n",
      " 1   appid                           int64  \n",
      " 2   game                            object \n",
      " 3   author_steamid                  int64  \n",
      " 4   author_num_games_owned          int64  \n",
      " 5   author_num_reviews              int64  \n",
      " 6   author_playtime_forever         int64  \n",
      " 7   author_playtime_last_two_weeks  int64  \n",
      " 8   author_playtime_at_review       int64  \n",
      " 9   author_last_played              int64  \n",
      " 10  language                        object \n",
      " 11  review                          object \n",
      " 12  timestamp_created               int64  \n",
      " 13  timestamp_updated               int64  \n",
      " 14  voted_up                        int64  \n",
      " 15  votes_up                        int64  \n",
      " 16  votes_funny                     int64  \n",
      " 17  weighted_vote_score             float64\n",
      " 18  comment_count                   int64  \n",
      " 19  steam_purchase                  int64  \n",
      " 20  received_for_free               int64  \n",
      " 21  written_during_early_access     int64  \n",
      " 22  hidden_in_steam_china           int64  \n",
      "dtypes: float64(1), int64(19), object(3)\n",
      "memory usage: 711.0+ MB\n"
     ]
    }
   ],
   "source": [
    "df.info()"
   ]
  },
  {
   "cell_type": "code",
   "execution_count": 11,
   "id": "611f79f0",
   "metadata": {},
   "outputs": [],
   "source": [
    "df_twelve = df.copy()"
   ]
  },
  {
   "cell_type": "code",
   "execution_count": 12,
   "id": "3569a7ef",
   "metadata": {},
   "outputs": [],
   "source": [
    "combine_df = pd.concat([df_eleventh, df_twelve])"
   ]
  },
  {
   "cell_type": "code",
   "execution_count": 13,
   "id": "3d18924a",
   "metadata": {},
   "outputs": [],
   "source": [
    "combine_df.drop(columns=['steam_purchase', 'received_for_free', 'written_during_early_access', \n",
    "                   'hidden_in_steam_china', 'steam_purchase', \n",
    "                   'timestamp_created', 'timestamp_updated', 'author_last_played', \n",
    "                   'author_playtime_last_two_weeks', 'author_num_games_owned'], inplace=True)"
   ]
  },
  {
   "cell_type": "code",
   "execution_count": 17,
   "id": "3adfb560",
   "metadata": {
    "scrolled": true
   },
   "outputs": [
    {
     "data": {
      "text/plain": [
       "(13882885, 14)"
      ]
     },
     "execution_count": 17,
     "metadata": {},
     "output_type": "execute_result"
    }
   ],
   "source": [
    "combine_df.shape"
   ]
  },
  {
   "cell_type": "code",
   "execution_count": 18,
   "id": "b5c7e12a",
   "metadata": {},
   "outputs": [],
   "source": [
    "cleaned_filepath = \"gcs://my-bucket-an/cleaned/\"\n",
    "\n",
    "# Write combine_df to Parquet file\n",
    "combine_df.to_parquet(f\"{cleaned_filepath}reviews4.parquet\", index=False)"
   ]
  },
  {
   "cell_type": "code",
   "execution_count": 21,
   "id": "cbe6fd9c",
   "metadata": {},
   "outputs": [
    {
     "name": "stdout",
     "output_type": "stream",
     "text": [
      "                                              review  num_words\n",
      "0                                      卑微铂金仔在线找人带我打派          1\n",
      "1  输了可不好玩，所以我从来不玩🤖 咳咳，其实游戏是好游戏，要是服务器稳定点就更好了 ——来自小...          3\n",
      "2                                                ddd          1\n",
      "3                                不多bb，游戏是好游戏。服务器是真fw          1\n",
      "4  Do not even bother trying to get into this gam...         76\n",
      "5  randomly banned me without explanation but the...         21\n",
      "6                                  i love loba's ass          4\n",
      "7                                              好玩的答辩          1\n",
      "8                                           fun game          2\n",
      "9  我在这里养了一只大屁股，路过的男朋友可以摸一摸，一个赞摸一次！你好陌生人，能给孩子一点点数吗...         12\n"
     ]
    }
   ],
   "source": [
    "# Number of words in each review\n",
    "reviews_df['num_words'] = reviews_df['review'].apply(lambda x: len(str(x).split()))\n",
    "# Print number of words for each review\n",
    "print(reviews_df[['review', 'num_words']].head(10))\n"
   ]
  },
  {
   "cell_type": "code",
   "execution_count": 12,
   "id": "a17add89",
   "metadata": {
    "scrolled": false
   },
   "outputs": [
    {
     "data": {
      "image/png": "[encoded data removed]",
      "text/plain": [
       "<Figure size 800x600 with 1 Axes>"
      ]
     },
     "metadata": {},
     "output_type": "display_data"
    }
   ],
   "source": [
    "plt.figure(figsize=(8, 6))\n",
    "sns.histplot(reviews_df['weighted_vote_score'])\n",
    "plt.title(\"Distribution of Helpfulness Score\")\n",
    "plt.xlabel(\"Helpfulness Score\")\n",
    "plt.ylabel(\"Frequency\")\n",
    "plt.show()"
   ]
  },
  {
   "cell_type": "code",
   "execution_count": 27,
   "id": "6902970a",
   "metadata": {},
   "outputs": [
    {
     "data": {
      "image/png": "[encoded data removed]",
      "text/plain": [
       "<Figure size 640x480 with 1 Axes>"
      ]
     },
     "metadata": {},
     "output_type": "display_data"
    }
   ],
   "source": [
    "import matplotlib.pyplot as plt\n",
    "\n",
    "plt.scatter(reviews_df['num_words'], reviews_df['weighted_vote_score'])\n",
    "plt.title('Review Length vs. Helpful Score')\n",
    "plt.xlabel('Number of Words in Review')\n",
    "plt.ylabel('Weighted Vote Score')\n",
    "plt.show()\n",
    "\n",
    "\n"
   ]
  },
  {
   "cell_type": "code",
   "execution_count": 23,
   "id": "54154ab8",
   "metadata": {
    "scrolled": true
   },
   "outputs": [
    {
     "name": "stdout",
     "output_type": "stream",
     "text": [
      "                                              review  num_characters\n",
      "0                                      卑微铂金仔在线找人带我打派              13\n",
      "1  输了可不好玩，所以我从来不玩🤖 咳咳，其实游戏是好游戏，要是服务器稳定点就更好了 ——来自小...              57\n",
      "2                                                ddd               3\n",
      "3                                不多bb，游戏是好游戏。服务器是真fw              19\n",
      "4  Do not even bother trying to get into this gam...             408\n",
      "5  randomly banned me without explanation but the...             115\n",
      "6                                  i love loba's ass              17\n",
      "7                                              好玩的答辩               5\n",
      "8                                           fun game               8\n",
      "9  我在这里养了一只大屁股，路过的男朋友可以摸一摸，一个赞摸一次！你好陌生人，能给孩子一点点数吗...             376\n"
     ]
    }
   ],
   "source": [
    "# Characters in each review\n",
    "reviews_df['num_characters'] = reviews_df['review'].apply(lambda x: len(str(x)))\n",
    "print(reviews_df[['review', 'num_characters']].head(10))\n"
   ]
  },
  {
   "cell_type": "code",
   "execution_count": null,
   "id": "141ac6c7",
   "metadata": {
    "scrolled": false
   },
   "outputs": [],
   "source": [
    "lp = sns.lmplot(x='num_words', y='weighted_vote_score', data=reviews_df)\n"
   ]
  },
  {
   "cell_type": "code",
   "execution_count": 47,
   "id": "b9247f31",
   "metadata": {
    "scrolled": false
   },
   "outputs": [
    {
     "name": "stdout",
     "output_type": "stream",
     "text": [
      "                     comment_count  weighted_vote_score  voted_up  votes_up  \\\n",
      "comment_count         1.000000e+00            -0.000214 -0.000763 -0.000019   \n",
      "weighted_vote_score  -2.138862e-04             1.000000 -0.213476  0.145324   \n",
      "voted_up             -7.632242e-04            -0.213476  1.000000 -0.023371   \n",
      "votes_up             -1.916634e-05             0.145324 -0.023371  1.000000   \n",
      "votes_funny          -3.158265e-07             0.001063 -0.001282 -0.000007   \n",
      "\n",
      "                      votes_funny  \n",
      "comment_count       -3.158265e-07  \n",
      "weighted_vote_score  1.062881e-03  \n",
      "voted_up            -1.282338e-03  \n",
      "votes_up            -6.992989e-06  \n",
      "votes_funny          1.000000e+00  \n"
     ]
    },
    {
     "data": {
      "image/png": "[encoded data removed]",
      "text/plain": [
       "<Figure size 640x480 with 2 Axes>"
      ]
     },
     "metadata": {},
     "output_type": "display_data"
    }
   ],
   "source": [
    "numeric_columns = [\"comment_count\",\"weighted_vote_score\",\"voted_up\",\"votes_up\",\"votes_funny\"]\n",
    "df = reviews_df[ numeric_columns ]\n",
    "print(df.corr())\n",
    "dataplot = sns.heatmap(df.corr(), cmap=\"YlGnBu\", annot=True)"
   ]
  },
  {
   "cell_type": "code",
   "execution_count": null,
   "id": "240a5bbd",
   "metadata": {},
   "outputs": [],
   "source": []
  }
 ],
 "metadata": {
  "kernelspec": {
   "display_name": "PySpark",
   "language": "python",
   "name": "pyspark"
  },
  "language_info": {
   "codemirror_mode": {
    "name": "ipython",
    "version": 3
   },
   "file_extension": ".py",
   "mimetype": "text/x-python",
   "name": "python",
   "nbconvert_exporter": "python",
   "pygments_lexer": "ipython3",
   "version": "3.11.8"
  }
 },
 "nbformat": 4,
 "nbformat_minor": 5
}
